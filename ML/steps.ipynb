{
 "cells": [
  {
   "cell_type": "code",
   "execution_count": null,
   "metadata": {},
   "outputs": [],
   "source": [
    "Step 1: Import necessary libraries\n",
    "Step 2: Define the dataset (Experience in years and corresponding Salary in $1000s)\n",
    "Step 3: Creating a Linear Regression Model\n",
    "Step 4: Training the model using data set\n",
    "Step 5: Get the values of slope and intercept from the trained model\n",
    "Step 6: Display the equation of the line\n",
    "Step 7: Predit values using the model\n",
    "Step 8: Plot the regression line\n",
    "step 9: Prediction Features\n",
    " "
   ]
  },
  {
   "cell_type": "code",
   "execution_count": null,
   "metadata": {},
   "outputs": [],
   "source": []
  }
 ],
 "metadata": {
  "kernelspec": {
   "display_name": "Python 3",
   "language": "python",
   "name": "python3"
  },
  "language_info": {
   "name": "python",
   "version": "3.10.16"
  }
 },
 "nbformat": 4,
 "nbformat_minor": 2
}
